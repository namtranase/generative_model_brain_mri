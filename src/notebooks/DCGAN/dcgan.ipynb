{
  "nbformat": 4,
  "nbformat_minor": 0,
  "metadata": {
    "colab": {
      "name": "dcgan.ipynb",
      "provenance": [],
      "collapsed_sections": []
    },
    "kernelspec": {
      "name": "python3",
      "display_name": "Python 3"
    }
  },
  "cells": [
    {
      "cell_type": "code",
      "metadata": {
        "colab": {
          "base_uri": "https://localhost:8080/"
        },
        "id": "hTl97zzaaiAV",
        "outputId": "9596e330-4154-4f47-fcea-0307cb46066e"
      },
      "source": [
        "from google.colab import drive\r\n",
        "drive.mount('/content/drive')"
      ],
      "execution_count": 226,
      "outputs": [
        {
          "output_type": "stream",
          "text": [
            "Drive already mounted at /content/drive; to attempt to forcibly remount, call drive.mount(\"/content/drive\", force_remount=True).\n"
          ],
          "name": "stdout"
        }
      ]
    },
    {
      "cell_type": "code",
      "metadata": {
        "id": "Nr9JMek3XMMb"
      },
      "source": [
        "\r\n",
        "import os\r\n",
        "from glob import glob\r\n",
        "import time\r\n",
        "import tensorflow as tf\r\n",
        "import numpy as np\r\n",
        "import datetime\r\n",
        "import random\r\n",
        "from PIL import Image\r\n",
        "import matplotlib.pyplot as plt"
      ],
      "execution_count": 227,
      "outputs": []
    },
    {
      "cell_type": "code",
      "metadata": {
        "colab": {
          "base_uri": "https://localhost:8080/"
        },
        "id": "KFD88AxkcSHw",
        "outputId": "95d37e51-f35a-41f7-c2d3-0ddae23abe86"
      },
      "source": [
        "print(tf.__version__)"
      ],
      "execution_count": 228,
      "outputs": [
        {
          "output_type": "stream",
          "text": [
            "2.3.0\n"
          ],
          "name": "stdout"
        }
      ]
    },
    {
      "cell_type": "code",
      "metadata": {
        "id": "4nBN3KqQXX5m"
      },
      "source": [
        "def generator(z, output_channel_dim, training):\r\n",
        "    with tf.compat.v1.variable_scope(\"generator\", reuse= not training):\r\n",
        "        \r\n",
        "        # 8x8x1024\r\n",
        "        fully_connected = tf.compat.v1.layers.dense(z, 8*8*1024)\r\n",
        "        fully_connected = tf.reshape(fully_connected, (-1, 8, 8, 1024))\r\n",
        "        fully_connected = tf.nn.leaky_relu(fully_connected)\r\n",
        "\r\n",
        "        # 8x8x1024 -> 16x16x512\r\n",
        "        trans_conv1 = tf.compat.v1.layers.conv2d_transpose(inputs=fully_connected,\r\n",
        "                                                 filters=512,\r\n",
        "                                                 kernel_size=[5,5],\r\n",
        "                                                 strides=[2,2],\r\n",
        "                                                 padding=\"SAME\",\r\n",
        "                                                 kernel_initializer=tf.compat.v1.truncated_normal_initializer(stddev=WEIGHT_INIT_STDDEV),\r\n",
        "                                                 name=\"trans_conv1\")\r\n",
        "        batch_trans_conv1 = tf.compat.v1.layers.batch_normalization(inputs = trans_conv1,\r\n",
        "                                                          training=training,\r\n",
        "                                                          epsilon=EPSILON,\r\n",
        "                                                          name=\"batch_trans_conv1\")\r\n",
        "        trans_conv1_out = tf.nn.leaky_relu(batch_trans_conv1,\r\n",
        "                                           name=\"trans_conv1_out\")\r\n",
        "        \r\n",
        "        # 16x16x512 -> 32x32x256\r\n",
        "        trans_conv2 = tf.compat.v1.layers.conv2d_transpose(inputs=trans_conv1_out,\r\n",
        "                                                 filters=256,\r\n",
        "                                                 kernel_size=[5,5],\r\n",
        "                                                 strides=[2,2],\r\n",
        "                                                 padding=\"SAME\",\r\n",
        "                                                 kernel_initializer=tf.compat.v1.truncated_normal_initializer(stddev=WEIGHT_INIT_STDDEV),\r\n",
        "                                                 name=\"trans_conv2\")\r\n",
        "        batch_trans_conv2 = tf.compat.v1.layers.batch_normalization(inputs = trans_conv2,\r\n",
        "                                                          training=training,\r\n",
        "                                                          epsilon=EPSILON,\r\n",
        "                                                          name=\"batch_trans_conv2\")\r\n",
        "        trans_conv2_out = tf.nn.leaky_relu(batch_trans_conv2,\r\n",
        "                                           name=\"trans_conv2_out\")\r\n",
        "        \r\n",
        "        # 32x32x256 -> 64x64x128\r\n",
        "        trans_conv3 = tf.compat.v1.layers.conv2d_transpose(inputs=trans_conv2_out,\r\n",
        "                                                 filters=128,\r\n",
        "                                                 kernel_size=[5,5],\r\n",
        "                                                 strides=[2,2],\r\n",
        "                                                 padding=\"SAME\",\r\n",
        "                                                 kernel_initializer=tf.compat.v1.truncated_normal_initializer(stddev=WEIGHT_INIT_STDDEV),\r\n",
        "                                                 name=\"trans_conv3\")\r\n",
        "        batch_trans_conv3 = tf.compat.v1.layers.batch_normalization(inputs = trans_conv3,\r\n",
        "                                                          training=training,\r\n",
        "                                                          epsilon=EPSILON,\r\n",
        "                                                          name=\"batch_trans_conv3\")\r\n",
        "        trans_conv3_out = tf.nn.leaky_relu(batch_trans_conv3,\r\n",
        "                                           name=\"trans_conv3_out\")\r\n",
        "        \r\n",
        "        # 64x64x128 -> 128x128x64\r\n",
        "        trans_conv4 = tf.compat.v1.layers.conv2d_transpose(inputs=trans_conv3_out,\r\n",
        "                                                 filters=64,\r\n",
        "                                                 kernel_size=[5,5],\r\n",
        "                                                 strides=[2,2],\r\n",
        "                                                 padding=\"SAME\",\r\n",
        "                                                 kernel_initializer=tf.compat.v1.truncated_normal_initializer(stddev=WEIGHT_INIT_STDDEV),\r\n",
        "                                                 name=\"trans_conv4\")\r\n",
        "        batch_trans_conv4 = tf.compat.v1.layers.batch_normalization(inputs = trans_conv4,\r\n",
        "                                                          training=training,\r\n",
        "                                                          epsilon=EPSILON,\r\n",
        "                                                          name=\"batch_trans_conv4\")\r\n",
        "        trans_conv4_out = tf.nn.leaky_relu(batch_trans_conv4,\r\n",
        "                                           name=\"trans_conv4_out\")\r\n",
        "        \r\n",
        "        # 128x128x64 -> 128x128x3\r\n",
        "        logits = tf.compat.v1.layers.conv2d_transpose(inputs=trans_conv4_out,\r\n",
        "                                            filters=3,\r\n",
        "                                            kernel_size=[5,5],\r\n",
        "                                            strides=[1,1],\r\n",
        "                                            padding=\"SAME\",\r\n",
        "                                            kernel_initializer=tf.compat.v1.truncated_normal_initializer(stddev=WEIGHT_INIT_STDDEV),\r\n",
        "                                            name=\"logits\")\r\n",
        "        out = tf.tanh(logits, name=\"out\")\r\n",
        "        return out"
      ],
      "execution_count": 229,
      "outputs": []
    },
    {
      "cell_type": "code",
      "metadata": {
        "id": "ecSDuJynXYkt"
      },
      "source": [
        "def discriminator(x, reuse):\r\n",
        "    with tf.compat.v1.variable_scope(\"discriminator\", reuse=reuse): \r\n",
        "        \r\n",
        "        # 128*128*3 -> 64x64x64 \r\n",
        "        conv1 = tf.compat.v1.layers.conv2d(inputs=x,\r\n",
        "                                 filters=64,\r\n",
        "                                 kernel_size=[5,5],\r\n",
        "                                 strides=[2,2],\r\n",
        "                                 padding=\"SAME\",\r\n",
        "                                 kernel_initializer=tf.compat.v1.truncated_normal_initializer(stddev=WEIGHT_INIT_STDDEV),\r\n",
        "                                 name='conv1')\r\n",
        "        batch_norm1 = tf.compat.v1.layers.batch_normalization(conv1,\r\n",
        "                                                    training=True,\r\n",
        "                                                    epsilon=EPSILON,\r\n",
        "                                                    name='batch_norm1')\r\n",
        "        conv1_out = tf.nn.leaky_relu(batch_norm1,\r\n",
        "                                     name=\"conv1_out\")\r\n",
        "        \r\n",
        "        # 64x64x64-> 32x32x128 \r\n",
        "        conv2 = tf.compat.v1.layers.conv2d(inputs=conv1_out,\r\n",
        "                                 filters=128,\r\n",
        "                                 kernel_size=[5, 5],\r\n",
        "                                 strides=[2, 2],\r\n",
        "                                 padding=\"SAME\",\r\n",
        "                                 kernel_initializer=tf.compat.v1.truncated_normal_initializer(stddev=WEIGHT_INIT_STDDEV),\r\n",
        "                                 name='conv2')\r\n",
        "        batch_norm2 = tf.compat.v1.layers.batch_normalization(conv2,\r\n",
        "                                                    training=True,\r\n",
        "                                                    epsilon=EPSILON,\r\n",
        "                                                    name='batch_norm2')\r\n",
        "        conv2_out = tf.nn.leaky_relu(batch_norm2,\r\n",
        "                                     name=\"conv2_out\")\r\n",
        "        \r\n",
        "        # 32x32x128 -> 16x16x256  \r\n",
        "        conv3 = tf.compat.v1.layers.conv2d(inputs=conv2_out,\r\n",
        "                                 filters=256,\r\n",
        "                                 kernel_size=[5, 5],\r\n",
        "                                 strides=[2, 2],\r\n",
        "                                 padding=\"SAME\",\r\n",
        "                                 kernel_initializer=tf.compat.v1.truncated_normal_initializer(stddev=WEIGHT_INIT_STDDEV),\r\n",
        "                                 name='conv3')\r\n",
        "        batch_norm3 = tf.compat.v1.layers.batch_normalization(conv3,\r\n",
        "                                                    training=True,\r\n",
        "                                                    epsilon=EPSILON,\r\n",
        "                                                    name='batch_norm3')\r\n",
        "        conv3_out = tf.nn.leaky_relu(batch_norm3,\r\n",
        "                                     name=\"conv3_out\")\r\n",
        "        \r\n",
        "        # 16x16x256 -> 16x16x512\r\n",
        "        conv4 = tf.compat.v1.layers.conv2d(inputs=conv3_out,\r\n",
        "                                 filters=512,\r\n",
        "                                 kernel_size=[5, 5],\r\n",
        "                                 strides=[1, 1],\r\n",
        "                                 padding=\"SAME\",\r\n",
        "                                 kernel_initializer=tf.compat.v1.truncated_normal_initializer(stddev=WEIGHT_INIT_STDDEV),\r\n",
        "                                 name='conv4')\r\n",
        "        batch_norm4 = tf.compat.v1.layers.batch_normalization(conv4,\r\n",
        "                                                    training=True,\r\n",
        "                                                    epsilon=EPSILON,\r\n",
        "                                                    name='batch_norm4')\r\n",
        "        conv4_out = tf.nn.leaky_relu(batch_norm4,\r\n",
        "                                     name=\"conv4_out\")\r\n",
        "        \r\n",
        "        # 16x16x512 -> 8x8x1024\r\n",
        "        conv5 = tf.compat.v1.layers.conv2d(inputs=conv4_out,\r\n",
        "                                filters=1024,\r\n",
        "                                kernel_size=[5, 5],\r\n",
        "                                strides=[2, 2],\r\n",
        "                                padding=\"SAME\",\r\n",
        "                                kernel_initializer=tf.compat.v1.truncated_normal_initializer(stddev=WEIGHT_INIT_STDDEV),\r\n",
        "                                name='conv5')\r\n",
        "        batch_norm5 = tf.compat.v1.layers.batch_normalization(conv5,\r\n",
        "                                                    training=True,\r\n",
        "                                                    epsilon=EPSILON,\r\n",
        "                                                    name='batch_norm5')\r\n",
        "        conv5_out = tf.nn.leaky_relu(batch_norm5,\r\n",
        "                                     name=\"conv5_out\")\r\n",
        "\r\n",
        "        flatten = tf.reshape(conv5_out, (-1, 8*8*1024))\r\n",
        "        logits = tf.compat.v1.layers.dense(inputs=flatten,\r\n",
        "                                 units=1,\r\n",
        "                                 activation=None)\r\n",
        "        out = tf.sigmoid(logits)\r\n",
        "        return out, logits"
      ],
      "execution_count": 230,
      "outputs": []
    },
    {
      "cell_type": "code",
      "metadata": {
        "id": "OIrP8o7XXbpm"
      },
      "source": [
        "def model_loss(input_real, input_z, output_channel_dim):\r\n",
        "    g_model = generator(input_z, output_channel_dim, True)\r\n",
        "\r\n",
        "    noisy_input_real = input_real + tf.random.normal(shape=tf.shape(input_real),\r\n",
        "                                                     mean=0.0,\r\n",
        "                                                     stddev=random.uniform(0.0, 0.1),\r\n",
        "                                                     dtype=tf.float32)\r\n",
        "    \r\n",
        "    d_model_real, d_logits_real = discriminator(noisy_input_real, reuse=False)\r\n",
        "    d_model_fake, d_logits_fake = discriminator(g_model, reuse=True)\r\n",
        "    \r\n",
        "    d_loss_real = tf.reduce_mean(tf.nn.sigmoid_cross_entropy_with_logits(logits=d_logits_real,\r\n",
        "                                                                         labels=tf.ones_like(d_model_real)*random.uniform(0.9, 1.0)))\r\n",
        "    d_loss_fake = tf.reduce_mean(tf.nn.sigmoid_cross_entropy_with_logits(logits=d_logits_fake,\r\n",
        "                                                                         labels=tf.zeros_like(d_model_fake)))\r\n",
        "    d_loss = tf.reduce_mean(0.5 * (d_loss_real + d_loss_fake))\r\n",
        "    g_loss = tf.reduce_mean(tf.nn.sigmoid_cross_entropy_with_logits(logits=d_logits_fake,\r\n",
        "                                                                    labels=tf.ones_like(d_model_fake)))\r\n",
        "    return d_loss, g_loss"
      ],
      "execution_count": 231,
      "outputs": []
    },
    {
      "cell_type": "code",
      "metadata": {
        "id": "63kS6kDbXd4I"
      },
      "source": [
        "def model_optimizers(d_loss, g_loss):\r\n",
        "    t_vars = tf.compat.v1.trainable_variables()\r\n",
        "    g_vars = [var for var in t_vars if var.name.startswith(\"generator\")]\r\n",
        "    d_vars = [var for var in t_vars if var.name.startswith(\"discriminator\")]\r\n",
        "    \r\n",
        "    update_ops = tf.compat.v1.get_collection(tf.compat.v1.GraphKeys.UPDATE_OPS)\r\n",
        "    gen_updates = [op for op in update_ops if op.name.startswith('generator') or op.name.startswith('discriminator')]\r\n",
        "    \r\n",
        "    with tf.control_dependencies(gen_updates):\r\n",
        "        d_train_opt = tf.compat.v1.train.AdamOptimizer(learning_rate=LR_D, beta1=BETA1).minimize(d_loss, var_list=d_vars)\r\n",
        "        g_train_opt = tf.compat.v1.train.AdamOptimizer(learning_rate=LR_G, beta1=BETA1).minimize(g_loss, var_list=g_vars)  \r\n",
        "    return d_train_opt, g_train_opt"
      ],
      "execution_count": 232,
      "outputs": []
    },
    {
      "cell_type": "code",
      "metadata": {
        "id": "mLg9aP23XgdD"
      },
      "source": [
        "def model_inputs(real_dim, z_dim):\r\n",
        "    inputs_real = tf.compat.v1.placeholder(tf.float32, (None, *real_dim), name='inputs_real')\r\n",
        "    inputs_z = tf.compat.v1.placeholder(tf.float32, (None, z_dim), name=\"input_z\")\r\n",
        "    learning_rate_G = tf.compat.v1.placeholder(tf.float32, name=\"lr_g\")\r\n",
        "    learning_rate_D = tf.compat.v1.placeholder(tf.float32, name=\"lr_d\")\r\n",
        "    return inputs_real, inputs_z, learning_rate_G, learning_rate_D"
      ],
      "execution_count": 233,
      "outputs": []
    },
    {
      "cell_type": "code",
      "metadata": {
        "id": "a1_03EDlXo3c"
      },
      "source": [
        "def show_samples(sample_images, name, epoch):\r\n",
        "    figure, axes = plt.subplots(1, len(sample_images), figsize = (IMAGE_SIZE, IMAGE_SIZE))\r\n",
        "    for index, axis in enumerate(axes):\r\n",
        "        axis.axis('off')\r\n",
        "        image_array = sample_images[index]\r\n",
        "        axis.imshow(image_array)\r\n",
        "        image = Image.fromarray(image_array)\r\n",
        "        image.save(name+\"_\"+str(epoch)+\"_\"+str(index)+\".png\") \r\n",
        "    plt.savefig(name+\"_\"+str(epoch)+\".png\", bbox_inches='tight', pad_inches=0)\r\n",
        "    plt.show()\r\n",
        "    plt.close()"
      ],
      "execution_count": 234,
      "outputs": []
    },
    {
      "cell_type": "code",
      "metadata": {
        "id": "dLv1rvKuXrdL"
      },
      "source": [
        "def test(sess, input_z, out_channel_dim, epoch):\r\n",
        "    example_z = np.random.uniform(-1, 1, size=[SAMPLES_TO_SHOW, input_z.get_shape().as_list()[-1]])\r\n",
        "    samples = sess.run(generator(input_z, out_channel_dim, False), feed_dict={input_z: example_z})\r\n",
        "    sample_images = [((sample + 1.0) * 127.5).astype(np.uint8) for sample in samples]\r\n",
        "    show_samples(sample_images, OUTPUT_DIR + \"samples\", epoch)"
      ],
      "execution_count": 235,
      "outputs": []
    },
    {
      "cell_type": "code",
      "metadata": {
        "id": "iA2douYfXsA0"
      },
      "source": [
        "def summarize_epoch(epoch, sess, d_losses, g_losses, input_z, data_shape, saver):\r\n",
        "    print(\"\\nEpoch {}/{}\".format(epoch, EPOCHS),\r\n",
        "          \"\\nD Loss: {:.5f}\".format(np.mean(d_losses[-MINIBATCH_SIZE:])),\r\n",
        "          \"\\nG Loss: {:.5f}\".format(np.mean(g_losses[-MINIBATCH_SIZE:])))\r\n",
        "    fig, ax = plt.subplots()\r\n",
        "    plt.plot(d_losses, label='Discriminator', alpha=0.6)\r\n",
        "    plt.plot(g_losses, label='Generator', alpha=0.6)\r\n",
        "    plt.title(\"Losses\")\r\n",
        "    plt.legend()\r\n",
        "    plt.savefig(OUTPUT_DIR + \"losses_\" + str(epoch) + \".png\")\r\n",
        "    plt.show()\r\n",
        "    plt.close()\r\n",
        "    saver.save(sess, OUTPUT_DIR + \"model_\" + str(epoch) + \".ckpt\")\r\n",
        "    test(sess, input_z, data_shape[3], epoch)"
      ],
      "execution_count": 236,
      "outputs": []
    },
    {
      "cell_type": "code",
      "metadata": {
        "id": "0yzOH6ZtXyWY"
      },
      "source": [
        "def get_batch(dataset):\r\n",
        "    files = random.sample(dataset, BATCH_SIZE)\r\n",
        "    batch = []\r\n",
        "    for file in files:\r\n",
        "        if random.choice([True, False]):\r\n",
        "            im = Image.open(file).resize((128,128))\r\n",
        "            batch.append(np.asarray(im.transpose(Image.FLIP_LEFT_RIGHT)))\r\n",
        "        else:\r\n",
        "            im = Image.open(file).resize((128,128))\r\n",
        "            batch.append(np.asarray(im))                     \r\n",
        "    batch = np.asarray(batch)\r\n",
        "    normalized_batch = (batch / 127.5) - 1.0\r\n",
        "    return normalized_batch, files"
      ],
      "execution_count": 237,
      "outputs": []
    },
    {
      "cell_type": "code",
      "metadata": {
        "id": "8f6SHNOFXy-2"
      },
      "source": [
        "def train(data_shape, epoch, checkpoint_path):\r\n",
        "    input_images, input_z, lr_G, lr_D = model_inputs(data_shape[1:], NOISE_SIZE)\r\n",
        "    d_loss, g_loss = model_loss(input_images, input_z, data_shape[3])\r\n",
        "    d_opt, g_opt = model_optimizers(d_loss, g_loss)\r\n",
        "    \r\n",
        "    with tf.compat.v1.Session() as sess:\r\n",
        "        sess.run(tf.compat.v1.global_variables_initializer())\r\n",
        "        saver = tf.compat.v1.train.Saver()\r\n",
        "        if checkpoint_path is not None:\r\n",
        "            saver.restore(sess, checkpoint_path)\r\n",
        "            \r\n",
        "        iteration = 0\r\n",
        "        d_losses = []\r\n",
        "        g_losses = []\r\n",
        "        \r\n",
        "        for epoch in range(EPOCH, EPOCHS):        \r\n",
        "            epoch += 1\r\n",
        "            epoch_dataset = DATASET.copy()\r\n",
        "            \r\n",
        "            for i in range(MINIBATCH_SIZE):\r\n",
        "                iteration_start_time = time.time()\r\n",
        "                iteration += 1\r\n",
        "                batch_images, used_files = get_batch(epoch_dataset)\r\n",
        "                [epoch_dataset.remove(file) for file in used_files]\r\n",
        "                \r\n",
        "                batch_z = np.random.uniform(-1, 1, size=(BATCH_SIZE, NOISE_SIZE))\r\n",
        "                _ = sess.run(d_opt, feed_dict={input_images: batch_images, input_z: batch_z, lr_D: LR_D})\r\n",
        "                _ = sess.run(g_opt, feed_dict={input_images: batch_images, input_z: batch_z, lr_G: LR_G})\r\n",
        "                d_losses.append(d_loss.eval({input_z: batch_z, input_images: batch_images}))\r\n",
        "                g_losses.append(g_loss.eval({input_z: batch_z}))\r\n",
        "                \r\n",
        "                elapsed_time = round(time.time()-iteration_start_time, 3)\r\n",
        "                remaining_files = len(epoch_dataset)\r\n",
        "                print(\"\\rEpoch: \" + str(epoch) +\r\n",
        "                      \", iteration: \" + str(iteration) + \r\n",
        "                      \", d_loss: \" + str(round(d_losses[-1], 3)) +\r\n",
        "                      \", g_loss: \" + str(round(g_losses[-1], 3)) +\r\n",
        "                      \", duration: \" + str(elapsed_time) + \r\n",
        "                      \", minutes remaining: \" + str(round(remaining_files/BATCH_SIZE*elapsed_time/60, 1)) +\r\n",
        "                      \", remaining files in batch: \" + str(remaining_files)\r\n",
        "                      , sep=' ', end=' ', flush=True)\r\n",
        "                \r\n",
        "            summarize_epoch(epoch, sess, d_losses, g_losses, input_z, data_shape, saver)"
      ],
      "execution_count": 238,
      "outputs": []
    },
    {
      "cell_type": "code",
      "metadata": {
        "id": "hWwWF5aIX2ad"
      },
      "source": [
        "# Hyperparameters\r\n",
        "IMAGE_SIZE = 128\r\n",
        "NOISE_SIZE = 100\r\n",
        "LR_D = 0.00004\r\n",
        "LR_G = 0.0002\r\n",
        "BATCH_SIZE = 64\r\n",
        "EPOCH = 0 # Non-zero only if we are resuming training with model checkpoint\r\n",
        "EPOCHS = 5 #EPOCH + number of epochs to perform\r\n",
        "BETA1 = 0.5\r\n",
        "WEIGHT_INIT_STDDEV = 0.02\r\n",
        "EPSILON = 0.00005\r\n",
        "SAMPLES_TO_SHOW = 5"
      ],
      "execution_count": 239,
      "outputs": []
    },
    {
      "cell_type": "code",
      "metadata": {
        "id": "soXQYF2iX4vL"
      },
      "source": [
        "\r\n",
        "BASE_PATH = '/content/drive/My Drive/data/data/augmented data/yes'\r\n",
        "OUTPUT_DIR = \"/content/drive/MyDrive/data/output\"\r\n",
        "DATASET = glob(os.path.join(BASE_PATH, '*.jpg'))\r\n",
        "DATASET_SIZE = len(DATASET) \r\n",
        "MINIBATCH_SIZE = DATASET_SIZE // BATCH_SIZE\r\n",
        "\r\n",
        "# Optional - model path to resume training\r\n",
        "#MODEL_PATH = BASE_PATH + \"models/\" + \"model_\" + str(EPOCH) + \".ckpt\""
      ],
      "execution_count": 240,
      "outputs": []
    },
    {
      "cell_type": "code",
      "metadata": {
        "colab": {
          "base_uri": "https://localhost:8080/",
          "height": 381
        },
        "id": "ZhRKAnSIX808",
        "outputId": "4e9937e2-9ff4-41bd-f506-0a248ab5e6bb"
      },
      "source": [
        "with tf.Graph().as_default():\r\n",
        "    train(data_shape=(DATASET_SIZE, IMAGE_SIZE, IMAGE_SIZE, 3),\r\n",
        "          epoch=EPOCH,\r\n",
        "          checkpoint_path=None) "
      ],
      "execution_count": 241,
      "outputs": [
        {
          "output_type": "stream",
          "text": [
            "\rEpoch: 1, iteration: 1, d_loss: 7.623, g_loss: 0.0, duration: 154.167, minutes remaining: 84.0, remaining files in batch: 2092 "
          ],
          "name": "stdout"
        },
        {
          "output_type": "error",
          "ename": "KeyboardInterrupt",
          "evalue": "ignored",
          "traceback": [
            "\u001b[0;31m---------------------------------------------------------------------------\u001b[0m",
            "\u001b[0;31mKeyboardInterrupt\u001b[0m                         Traceback (most recent call last)",
            "\u001b[0;32m<ipython-input-241-1d99155425de>\u001b[0m in \u001b[0;36m<module>\u001b[0;34m()\u001b[0m\n\u001b[1;32m      2\u001b[0m     train(data_shape=(DATASET_SIZE, IMAGE_SIZE, IMAGE_SIZE, 3),\n\u001b[1;32m      3\u001b[0m           \u001b[0mepoch\u001b[0m\u001b[0;34m=\u001b[0m\u001b[0mEPOCH\u001b[0m\u001b[0;34m,\u001b[0m\u001b[0;34m\u001b[0m\u001b[0;34m\u001b[0m\u001b[0m\n\u001b[0;32m----> 4\u001b[0;31m           checkpoint_path=None) \n\u001b[0m",
            "\u001b[0;32m<ipython-input-238-bbbefc5dd79f>\u001b[0m in \u001b[0;36mtrain\u001b[0;34m(data_shape, epoch, checkpoint_path)\u001b[0m\n\u001b[1;32m     25\u001b[0m \u001b[0;34m\u001b[0m\u001b[0m\n\u001b[1;32m     26\u001b[0m                 \u001b[0mbatch_z\u001b[0m \u001b[0;34m=\u001b[0m \u001b[0mnp\u001b[0m\u001b[0;34m.\u001b[0m\u001b[0mrandom\u001b[0m\u001b[0;34m.\u001b[0m\u001b[0muniform\u001b[0m\u001b[0;34m(\u001b[0m\u001b[0;34m-\u001b[0m\u001b[0;36m1\u001b[0m\u001b[0;34m,\u001b[0m \u001b[0;36m1\u001b[0m\u001b[0;34m,\u001b[0m \u001b[0msize\u001b[0m\u001b[0;34m=\u001b[0m\u001b[0;34m(\u001b[0m\u001b[0mBATCH_SIZE\u001b[0m\u001b[0;34m,\u001b[0m \u001b[0mNOISE_SIZE\u001b[0m\u001b[0;34m)\u001b[0m\u001b[0;34m)\u001b[0m\u001b[0;34m\u001b[0m\u001b[0;34m\u001b[0m\u001b[0m\n\u001b[0;32m---> 27\u001b[0;31m                 \u001b[0m_\u001b[0m \u001b[0;34m=\u001b[0m \u001b[0msess\u001b[0m\u001b[0;34m.\u001b[0m\u001b[0mrun\u001b[0m\u001b[0;34m(\u001b[0m\u001b[0md_opt\u001b[0m\u001b[0;34m,\u001b[0m \u001b[0mfeed_dict\u001b[0m\u001b[0;34m=\u001b[0m\u001b[0;34m{\u001b[0m\u001b[0minput_images\u001b[0m\u001b[0;34m:\u001b[0m \u001b[0mbatch_images\u001b[0m\u001b[0;34m,\u001b[0m \u001b[0minput_z\u001b[0m\u001b[0;34m:\u001b[0m \u001b[0mbatch_z\u001b[0m\u001b[0;34m,\u001b[0m \u001b[0mlr_D\u001b[0m\u001b[0;34m:\u001b[0m \u001b[0mLR_D\u001b[0m\u001b[0;34m}\u001b[0m\u001b[0;34m)\u001b[0m\u001b[0;34m\u001b[0m\u001b[0;34m\u001b[0m\u001b[0m\n\u001b[0m\u001b[1;32m     28\u001b[0m                 \u001b[0m_\u001b[0m \u001b[0;34m=\u001b[0m \u001b[0msess\u001b[0m\u001b[0;34m.\u001b[0m\u001b[0mrun\u001b[0m\u001b[0;34m(\u001b[0m\u001b[0mg_opt\u001b[0m\u001b[0;34m,\u001b[0m \u001b[0mfeed_dict\u001b[0m\u001b[0;34m=\u001b[0m\u001b[0;34m{\u001b[0m\u001b[0minput_images\u001b[0m\u001b[0;34m:\u001b[0m \u001b[0mbatch_images\u001b[0m\u001b[0;34m,\u001b[0m \u001b[0minput_z\u001b[0m\u001b[0;34m:\u001b[0m \u001b[0mbatch_z\u001b[0m\u001b[0;34m,\u001b[0m \u001b[0mlr_G\u001b[0m\u001b[0;34m:\u001b[0m \u001b[0mLR_G\u001b[0m\u001b[0;34m}\u001b[0m\u001b[0;34m)\u001b[0m\u001b[0;34m\u001b[0m\u001b[0;34m\u001b[0m\u001b[0m\n\u001b[1;32m     29\u001b[0m                 \u001b[0md_losses\u001b[0m\u001b[0;34m.\u001b[0m\u001b[0mappend\u001b[0m\u001b[0;34m(\u001b[0m\u001b[0md_loss\u001b[0m\u001b[0;34m.\u001b[0m\u001b[0meval\u001b[0m\u001b[0;34m(\u001b[0m\u001b[0;34m{\u001b[0m\u001b[0minput_z\u001b[0m\u001b[0;34m:\u001b[0m \u001b[0mbatch_z\u001b[0m\u001b[0;34m,\u001b[0m \u001b[0minput_images\u001b[0m\u001b[0;34m:\u001b[0m \u001b[0mbatch_images\u001b[0m\u001b[0;34m}\u001b[0m\u001b[0;34m)\u001b[0m\u001b[0;34m)\u001b[0m\u001b[0;34m\u001b[0m\u001b[0;34m\u001b[0m\u001b[0m\n",
            "\u001b[0;32m/usr/local/lib/python3.6/dist-packages/tensorflow/python/client/session.py\u001b[0m in \u001b[0;36mrun\u001b[0;34m(self, fetches, feed_dict, options, run_metadata)\u001b[0m\n\u001b[1;32m    956\u001b[0m     \u001b[0;32mtry\u001b[0m\u001b[0;34m:\u001b[0m\u001b[0;34m\u001b[0m\u001b[0;34m\u001b[0m\u001b[0m\n\u001b[1;32m    957\u001b[0m       result = self._run(None, fetches, feed_dict, options_ptr,\n\u001b[0;32m--> 958\u001b[0;31m                          run_metadata_ptr)\n\u001b[0m\u001b[1;32m    959\u001b[0m       \u001b[0;32mif\u001b[0m \u001b[0mrun_metadata\u001b[0m\u001b[0;34m:\u001b[0m\u001b[0;34m\u001b[0m\u001b[0;34m\u001b[0m\u001b[0m\n\u001b[1;32m    960\u001b[0m         \u001b[0mproto_data\u001b[0m \u001b[0;34m=\u001b[0m \u001b[0mtf_session\u001b[0m\u001b[0;34m.\u001b[0m\u001b[0mTF_GetBuffer\u001b[0m\u001b[0;34m(\u001b[0m\u001b[0mrun_metadata_ptr\u001b[0m\u001b[0;34m)\u001b[0m\u001b[0;34m\u001b[0m\u001b[0;34m\u001b[0m\u001b[0m\n",
            "\u001b[0;32m/usr/local/lib/python3.6/dist-packages/tensorflow/python/client/session.py\u001b[0m in \u001b[0;36m_run\u001b[0;34m(self, handle, fetches, feed_dict, options, run_metadata)\u001b[0m\n\u001b[1;32m   1179\u001b[0m     \u001b[0;32mif\u001b[0m \u001b[0mfinal_fetches\u001b[0m \u001b[0;32mor\u001b[0m \u001b[0mfinal_targets\u001b[0m \u001b[0;32mor\u001b[0m \u001b[0;34m(\u001b[0m\u001b[0mhandle\u001b[0m \u001b[0;32mand\u001b[0m \u001b[0mfeed_dict_tensor\u001b[0m\u001b[0;34m)\u001b[0m\u001b[0;34m:\u001b[0m\u001b[0;34m\u001b[0m\u001b[0;34m\u001b[0m\u001b[0m\n\u001b[1;32m   1180\u001b[0m       results = self._do_run(handle, final_targets, final_fetches,\n\u001b[0;32m-> 1181\u001b[0;31m                              feed_dict_tensor, options, run_metadata)\n\u001b[0m\u001b[1;32m   1182\u001b[0m     \u001b[0;32melse\u001b[0m\u001b[0;34m:\u001b[0m\u001b[0;34m\u001b[0m\u001b[0;34m\u001b[0m\u001b[0m\n\u001b[1;32m   1183\u001b[0m       \u001b[0mresults\u001b[0m \u001b[0;34m=\u001b[0m \u001b[0;34m[\u001b[0m\u001b[0;34m]\u001b[0m\u001b[0;34m\u001b[0m\u001b[0;34m\u001b[0m\u001b[0m\n",
            "\u001b[0;32m/usr/local/lib/python3.6/dist-packages/tensorflow/python/client/session.py\u001b[0m in \u001b[0;36m_do_run\u001b[0;34m(self, handle, target_list, fetch_list, feed_dict, options, run_metadata)\u001b[0m\n\u001b[1;32m   1357\u001b[0m     \u001b[0;32mif\u001b[0m \u001b[0mhandle\u001b[0m \u001b[0;32mis\u001b[0m \u001b[0;32mNone\u001b[0m\u001b[0;34m:\u001b[0m\u001b[0;34m\u001b[0m\u001b[0;34m\u001b[0m\u001b[0m\n\u001b[1;32m   1358\u001b[0m       return self._do_call(_run_fn, feeds, fetches, targets, options,\n\u001b[0;32m-> 1359\u001b[0;31m                            run_metadata)\n\u001b[0m\u001b[1;32m   1360\u001b[0m     \u001b[0;32melse\u001b[0m\u001b[0;34m:\u001b[0m\u001b[0;34m\u001b[0m\u001b[0;34m\u001b[0m\u001b[0m\n\u001b[1;32m   1361\u001b[0m       \u001b[0;32mreturn\u001b[0m \u001b[0mself\u001b[0m\u001b[0;34m.\u001b[0m\u001b[0m_do_call\u001b[0m\u001b[0;34m(\u001b[0m\u001b[0m_prun_fn\u001b[0m\u001b[0;34m,\u001b[0m \u001b[0mhandle\u001b[0m\u001b[0;34m,\u001b[0m \u001b[0mfeeds\u001b[0m\u001b[0;34m,\u001b[0m \u001b[0mfetches\u001b[0m\u001b[0;34m)\u001b[0m\u001b[0;34m\u001b[0m\u001b[0;34m\u001b[0m\u001b[0m\n",
            "\u001b[0;32m/usr/local/lib/python3.6/dist-packages/tensorflow/python/client/session.py\u001b[0m in \u001b[0;36m_do_call\u001b[0;34m(self, fn, *args)\u001b[0m\n\u001b[1;32m   1363\u001b[0m   \u001b[0;32mdef\u001b[0m \u001b[0m_do_call\u001b[0m\u001b[0;34m(\u001b[0m\u001b[0mself\u001b[0m\u001b[0;34m,\u001b[0m \u001b[0mfn\u001b[0m\u001b[0;34m,\u001b[0m \u001b[0;34m*\u001b[0m\u001b[0margs\u001b[0m\u001b[0;34m)\u001b[0m\u001b[0;34m:\u001b[0m\u001b[0;34m\u001b[0m\u001b[0;34m\u001b[0m\u001b[0m\n\u001b[1;32m   1364\u001b[0m     \u001b[0;32mtry\u001b[0m\u001b[0;34m:\u001b[0m\u001b[0;34m\u001b[0m\u001b[0;34m\u001b[0m\u001b[0m\n\u001b[0;32m-> 1365\u001b[0;31m       \u001b[0;32mreturn\u001b[0m \u001b[0mfn\u001b[0m\u001b[0;34m(\u001b[0m\u001b[0;34m*\u001b[0m\u001b[0margs\u001b[0m\u001b[0;34m)\u001b[0m\u001b[0;34m\u001b[0m\u001b[0;34m\u001b[0m\u001b[0m\n\u001b[0m\u001b[1;32m   1366\u001b[0m     \u001b[0;32mexcept\u001b[0m \u001b[0merrors\u001b[0m\u001b[0;34m.\u001b[0m\u001b[0mOpError\u001b[0m \u001b[0;32mas\u001b[0m \u001b[0me\u001b[0m\u001b[0;34m:\u001b[0m\u001b[0;34m\u001b[0m\u001b[0;34m\u001b[0m\u001b[0m\n\u001b[1;32m   1367\u001b[0m       \u001b[0mmessage\u001b[0m \u001b[0;34m=\u001b[0m \u001b[0mcompat\u001b[0m\u001b[0;34m.\u001b[0m\u001b[0mas_text\u001b[0m\u001b[0;34m(\u001b[0m\u001b[0me\u001b[0m\u001b[0;34m.\u001b[0m\u001b[0mmessage\u001b[0m\u001b[0;34m)\u001b[0m\u001b[0;34m\u001b[0m\u001b[0;34m\u001b[0m\u001b[0m\n",
            "\u001b[0;32m/usr/local/lib/python3.6/dist-packages/tensorflow/python/client/session.py\u001b[0m in \u001b[0;36m_run_fn\u001b[0;34m(feed_dict, fetch_list, target_list, options, run_metadata)\u001b[0m\n\u001b[1;32m   1348\u001b[0m       \u001b[0mself\u001b[0m\u001b[0;34m.\u001b[0m\u001b[0m_extend_graph\u001b[0m\u001b[0;34m(\u001b[0m\u001b[0;34m)\u001b[0m\u001b[0;34m\u001b[0m\u001b[0;34m\u001b[0m\u001b[0m\n\u001b[1;32m   1349\u001b[0m       return self._call_tf_sessionrun(options, feed_dict, fetch_list,\n\u001b[0;32m-> 1350\u001b[0;31m                                       target_list, run_metadata)\n\u001b[0m\u001b[1;32m   1351\u001b[0m \u001b[0;34m\u001b[0m\u001b[0m\n\u001b[1;32m   1352\u001b[0m     \u001b[0;32mdef\u001b[0m \u001b[0m_prun_fn\u001b[0m\u001b[0;34m(\u001b[0m\u001b[0mhandle\u001b[0m\u001b[0;34m,\u001b[0m \u001b[0mfeed_dict\u001b[0m\u001b[0;34m,\u001b[0m \u001b[0mfetch_list\u001b[0m\u001b[0;34m)\u001b[0m\u001b[0;34m:\u001b[0m\u001b[0;34m\u001b[0m\u001b[0;34m\u001b[0m\u001b[0m\n",
            "\u001b[0;32m/usr/local/lib/python3.6/dist-packages/tensorflow/python/client/session.py\u001b[0m in \u001b[0;36m_call_tf_sessionrun\u001b[0;34m(self, options, feed_dict, fetch_list, target_list, run_metadata)\u001b[0m\n\u001b[1;32m   1441\u001b[0m     return tf_session.TF_SessionRun_wrapper(self._session, options, feed_dict,\n\u001b[1;32m   1442\u001b[0m                                             \u001b[0mfetch_list\u001b[0m\u001b[0;34m,\u001b[0m \u001b[0mtarget_list\u001b[0m\u001b[0;34m,\u001b[0m\u001b[0;34m\u001b[0m\u001b[0;34m\u001b[0m\u001b[0m\n\u001b[0;32m-> 1443\u001b[0;31m                                             run_metadata)\n\u001b[0m\u001b[1;32m   1444\u001b[0m \u001b[0;34m\u001b[0m\u001b[0m\n\u001b[1;32m   1445\u001b[0m   \u001b[0;32mdef\u001b[0m \u001b[0m_call_tf_sessionprun\u001b[0m\u001b[0;34m(\u001b[0m\u001b[0mself\u001b[0m\u001b[0;34m,\u001b[0m \u001b[0mhandle\u001b[0m\u001b[0;34m,\u001b[0m \u001b[0mfeed_dict\u001b[0m\u001b[0;34m,\u001b[0m \u001b[0mfetch_list\u001b[0m\u001b[0;34m)\u001b[0m\u001b[0;34m:\u001b[0m\u001b[0;34m\u001b[0m\u001b[0;34m\u001b[0m\u001b[0m\n",
            "\u001b[0;31mKeyboardInterrupt\u001b[0m: "
          ]
        }
      ]
    }
  ]
}